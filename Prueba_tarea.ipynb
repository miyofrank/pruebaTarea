{
 "cells": [
  {
   "cell_type": "code",
   "execution_count": null,
   "id": "64166cfa-4927-44e9-a737-c37fbbae67d6",
   "metadata": {},
   "outputs": [],
   "source": [
    "Jueguito piedra papel tijeras"
   ]
  },
  {
   "cell_type": "code",
   "execution_count": null,
   "id": "318b75b4-d804-4b24-aab1-fa31b57eb98c",
   "metadata": {},
   "outputs": [],
   "source": []
  },
  {
   "cell_type": "code",
   "execution_count": 1,
   "id": "a7153cd5-90f0-46c8-b79d-8478c96fe229",
   "metadata": {},
   "outputs": [
    {
     "name": "stdin",
     "output_type": "stream",
     "text": [
      "Elige piedra, papel o tijeras:  piedra\n"
     ]
    },
    {
     "name": "stdout",
     "output_type": "stream",
     "text": [
      "Computadora elige: papel\n",
      "¡Perdiste!\n"
     ]
    }
   ],
   "source": [
    "import random\n",
    "\n",
    "def piedra_papel_tijeras():\n",
    "    opciones = ['piedra', 'papel', 'tijeras']\n",
    "    \n",
    "    # Elección del usuario\n",
    "    usuario = input(\"Elige piedra, papel o tijeras: \").lower()\n",
    "    \n",
    "    if usuario not in opciones:\n",
    "        return \"Elección no válida. Elige entre 'piedra', 'papel' o 'tijeras'.\"\n",
    "    \n",
    "    # Elección de la computadora\n",
    "    computadora = random.choice(opciones)\n",
    "    print(f\"Computadora elige: {computadora}\")\n",
    "    \n",
    "    # Condiciones para determinar el ganador\n",
    "    if usuario == computadora:\n",
    "        return \"¡Es un empate!\"\n",
    "    elif (usuario == 'piedra' and computadora == 'tijeras') or \\\n",
    "         (usuario == 'papel' and computadora == 'piedra') or \\\n",
    "         (usuario == 'tijeras' and computadora == 'papel'):\n",
    "        return \"¡Ganaste!\"\n",
    "    else:\n",
    "        return \"¡Perdiste!\"\n",
    "\n",
    "# Llamar a la función para jugar\n",
    "print(piedra_papel_tijeras())\n"
   ]
  },
  {
   "cell_type": "code",
   "execution_count": null,
   "id": "365029e8-74d9-4a5b-988d-701a0b42a7ef",
   "metadata": {},
   "outputs": [],
   "source": []
  }
 ],
 "metadata": {
  "kernelspec": {
   "display_name": "Python 3 (ipykernel)",
   "language": "python",
   "name": "python3"
  },
  "language_info": {
   "codemirror_mode": {
    "name": "ipython",
    "version": 3
   },
   "file_extension": ".py",
   "mimetype": "text/x-python",
   "name": "python",
   "nbconvert_exporter": "python",
   "pygments_lexer": "ipython3",
   "version": "3.12.4"
  }
 },
 "nbformat": 4,
 "nbformat_minor": 5
}
