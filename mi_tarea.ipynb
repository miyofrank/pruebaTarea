{
  "cells": [
    {
      "cell_type": "markdown",
      "metadata": {
        "id": "YgYCteMcNTc5"
      },
      "source": [
        "# Calcular el tamaño de la cadena \"Esta es una cadena\" sin usar la función len.\n",
        "\n"
      ]
    },
    {
      "cell_type": "code",
      "execution_count": null,
      "metadata": {
        "colab": {
          "base_uri": "https://localhost:8080/"
        },
        "id": "T7JTDmHhNNc8",
        "outputId": "80542c5b-1740-4e29-9193-2b0f7960578e"
      },
      "outputs": [
        {
          "name": "stdout",
          "output_type": "stream",
          "text": [
            "El tamaño de la cadena es: 18\n"
          ]
        }
      ],
      "source": [
        "a = \"Esta es una cadena\"\n",
        "cont = 0\n",
        "for i in a:\n",
        "    cont += 1\n",
        "print(\"El tamaño de la cadena es:\", cont)"
      ]
    },
    {
      "cell_type": "markdown",
      "metadata": {
        "id": "RRzVz21oNRYh"
      },
      "source": [
        "# Contar el número de caracteres en la cadena trabajando.pe."
      ]
    },
    {
      "cell_type": "code",
      "execution_count": null,
      "metadata": {
        "colab": {
          "base_uri": "https://localhost:8080/"
        },
        "id": "0eO4EAixNtl5",
        "outputId": "9f648ac6-92fa-4d35-8142-a1e0265f8152"
      },
      "outputs": [
        {
          "name": "stdout",
          "output_type": "stream",
          "text": [
            "Letra  t  corresponde al  1\n",
            "Letra  r  corresponde al  2\n",
            "Letra  a  corresponde al  3\n",
            "Letra  b  corresponde al  4\n",
            "Letra  a  corresponde al  5\n",
            "Letra  j  corresponde al  6\n",
            "Letra  a  corresponde al  7\n",
            "Letra  n  corresponde al  8\n",
            "Letra  d  corresponde al  9\n",
            "Letra  o  corresponde al  10\n",
            "Letra  .  corresponde al  11\n",
            "Letra  p  corresponde al  12\n",
            "Letra  e  corresponde al  13\n"
          ]
        }
      ],
      "source": [
        "a = \"trabajando.pe\"\n",
        "cont = 0\n",
        "for i in a:\n",
        "    cont += 1\n",
        "    print(\"Letra \",i, \" corresponde al \",cont)"
      ]
    },
    {
      "cell_type": "markdown",
      "metadata": {
        "id": "KiIHc8qwNuLJ"
      },
      "source": [
        "# Eliminar duplicados de la lista ['a', 'b', 'c', 'a', 'c', 'c']"
      ]
    },
    {
      "cell_type": "code",
      "execution_count": null,
      "metadata": {
        "colab": {
          "base_uri": "https://localhost:8080/"
        },
        "id": "gpcwqpiNNyX4",
        "outputId": "e8522fcf-db88-406f-ec1f-67b511106747"
      },
      "outputs": [
        {
          "name": "stdout",
          "output_type": "stream",
          "text": [
            "Lista : ['a', 'b', 'c', 'a', 'c', 'c']\n",
            "Lista sin duplicados: ['a', 'b', 'c']\n"
          ]
        }
      ],
      "source": [
        "lista = ['a', 'b', 'c', 'a', 'c', 'c']\n",
        "lista_sin_duplicados = list(set(lista))\n",
        "\n",
        "print(\"Lista :\", lista)\n",
        "print(\"Lista sin duplicados:\", lista_sin_duplicados)"
      ]
    },
    {
      "cell_type": "markdown",
      "metadata": {
        "id": "WXbOL5-mN2G4"
      },
      "source": [
        "# Imprimir el patrón siguiente, usando bucles:\n",
        "![image.png](data:image/png;base64,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)"
      ]
    },
    {
      "cell_type": "code",
      "execution_count": null,
      "metadata": {
        "colab": {
          "base_uri": "https://localhost:8080/"
        },
        "id": "P2kOPA7yN32J",
        "outputId": "e4e052cf-b888-44a3-be48-5f8d8cddfcda"
      },
      "outputs": [
        {
          "name": "stdout",
          "output_type": "stream",
          "text": [
            "*\n",
            "**\n",
            "***\n",
            "****\n",
            "*****\n",
            "****\n",
            "***\n",
            "**\n",
            "*\n"
          ]
        }
      ],
      "source": [
        "i = 1\n",
        "paso = 1\n",
        "while i > 0:\n",
        "    print('*' * i)\n",
        "    if i == 5:\n",
        "        paso = -1\n",
        "    i += paso\n",
        "    if i == 0:\n",
        "        break"
      ]
    },
    {
      "cell_type": "markdown",
      "metadata": {
        "id": "6SgijNSoN4Jh"
      },
      "source": [
        "# Escribir una función para determinar si un número es primo o no"
      ]
    },
    {
      "cell_type": "code",
      "execution_count": null,
      "metadata": {
        "id": "Vd4dwVZ5N63w"
      },
      "outputs": [],
      "source": [
        "def esprimo(numero):\n",
        "    if numero <= 1: \n",
        "        return print(\"No es primo\")\n",
        "    elif numero <= 3: \n",
        "        return print(\"Es primo\")\n",
        "    elif numero % 2 == 0 or numero % 3 == 0:  \n",
        "        return print(\"No es primo\")\n",
        "    else:\n",
        "        i = 5\n",
        "        while i * i <= numero:\n",
        "            if numero % i == 0 or numero % (i + 2) == 0:\n",
        "                return print(\"No es primo\")\n",
        "            i += 6\n",
        "        return print(\"Es primo\")\n"
      ]
    },
    {
      "cell_type": "code",
      "execution_count": null,
      "metadata": {
        "colab": {
          "base_uri": "https://localhost:8080/"
        },
        "id": "L5e8KOeQXquW",
        "outputId": "36eeb181-c462-4f69-cae8-99a657aa8ed6"
      },
      "outputs": [
        {
          "name": "stdout",
          "output_type": "stream",
          "text": [
            "No es primo\n",
            "None\n"
          ]
        }
      ],
      "source": [
        "print(esprimo(10))"
      ]
    }
  ],
  "metadata": {
    "colab": {
      "provenance": []
    },
    "kernelspec": {
      "display_name": "Python 3",
      "name": "python3"
    },
    "language_info": {
      "name": "python"
    }
  },
  "nbformat": 4,
  "nbformat_minor": 0
}
